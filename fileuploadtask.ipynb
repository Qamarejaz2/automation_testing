{
 "cells": [
  {
   "cell_type": "code",
   "execution_count": 1,
   "id": "54597715",
   "metadata": {},
   "outputs": [],
   "source": [
    "import flask "
   ]
  },
  {
   "cell_type": "code",
   "execution_count": 2,
   "id": "6dda244f",
   "metadata": {},
   "outputs": [],
   "source": [
    "from flask import Flask, request\n",
    "\n",
    "app = Flask(__name__)\n"
   ]
  },
  {
   "cell_type": "code",
   "execution_count": 4,
   "id": "1b66cdb3",
   "metadata": {},
   "outputs": [],
   "source": [
    "from flask import Flask, jsonify, request"
   ]
  },
  {
   "cell_type": "code",
   "execution_count": 5,
   "id": "2abd49e6",
   "metadata": {},
   "outputs": [],
   "source": [
    "users = [\n",
    "    {\"id\": 1, \"name\": \"qamar\"},\n",
    "    {\"id\": 2, \"name\": \"umaq\"}\n",
    "]"
   ]
  },
  {
   "cell_type": "code",
   "execution_count": 6,
   "id": "79e4c9e7",
   "metadata": {},
   "outputs": [],
   "source": [
    "@app.route('/users', methods=['GET'])\n",
    "def get_users():\n",
    "    return jsonify(users)"
   ]
  },
  {
   "cell_type": "code",
   "execution_count": 7,
   "id": "7609a6b9",
   "metadata": {},
   "outputs": [
    {
     "data": {
      "text/plain": [
       "[{'id': 1, 'name': 'qamar'}, {'id': 2, 'name': 'umaq'}]"
      ]
     },
     "execution_count": 7,
     "metadata": {},
     "output_type": "execute_result"
    }
   ],
   "source": [
    "users"
   ]
  },
  {
   "cell_type": "code",
   "execution_count": null,
   "id": "76f041a9",
   "metadata": {},
   "outputs": [],
   "source": []
  }
 ],
 "metadata": {
  "kernelspec": {
   "display_name": "Python 3 (ipykernel)",
   "language": "python",
   "name": "python3"
  },
  "language_info": {
   "codemirror_mode": {
    "name": "ipython",
    "version": 3
   },
   "file_extension": ".py",
   "mimetype": "text/x-python",
   "name": "python",
   "nbconvert_exporter": "python",
   "pygments_lexer": "ipython3",
   "version": "3.6.13"
  }
 },
 "nbformat": 4,
 "nbformat_minor": 5
}
