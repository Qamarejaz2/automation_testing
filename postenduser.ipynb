{
 "cells": [
  {
   "cell_type": "code",
   "execution_count": 1,
   "id": "0dc51888",
   "metadata": {},
   "outputs": [],
   "source": [
    "from flask import Flask, jsonify, request"
   ]
  },
  {
   "cell_type": "code",
   "execution_count": 12,
   "id": "0268fb0a",
   "metadata": {},
   "outputs": [],
   "source": [
    "app = Flask(__name__)"
   ]
  },
  {
   "cell_type": "code",
   "execution_count": 13,
   "id": "713f7469",
   "metadata": {},
   "outputs": [],
   "source": [
    "@app.route('/users', methods=['POST'])\n",
    "def create_user():\n",
    "    data = request.get_json()  # Retrieve JSON data from the request body\n",
    "    user_id = data.get('id')\n",
    "    user_name = data.get('name')"
   ]
  },
  {
   "cell_type": "code",
   "execution_count": 11,
   "id": "e1b0f140",
   "metadata": {},
   "outputs": [],
   "source": [
    " user = {\"id\": '123', \"name\": 'qamar'}"
   ]
  },
  {
   "cell_type": "code",
   "execution_count": null,
   "id": "c9ccd78b",
   "metadata": {},
   "outputs": [],
   "source": []
  }
 ],
 "metadata": {
  "kernelspec": {
   "display_name": "Python 3 (ipykernel)",
   "language": "python",
   "name": "python3"
  },
  "language_info": {
   "codemirror_mode": {
    "name": "ipython",
    "version": 3
   },
   "file_extension": ".py",
   "mimetype": "text/x-python",
   "name": "python",
   "nbconvert_exporter": "python",
   "pygments_lexer": "ipython3",
   "version": "3.6.13"
  }
 },
 "nbformat": 4,
 "nbformat_minor": 5
}
